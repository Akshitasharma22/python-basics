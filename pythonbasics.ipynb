{
  "nbformat": 4,
  "nbformat_minor": 0,
  "metadata": {
    "colab": {
      "provenance": []
    },
    "kernelspec": {
      "name": "python3",
      "display_name": "Python 3"
    },
    "language_info": {
      "name": "python"
    }
  },
  "cells": [
    {
      "cell_type": "markdown",
      "source": [],
      "metadata": {
        "id": "FvtWSv6hadHu"
      }
    },
    {
      "cell_type": "markdown",
      "source": [
        "What is Python, and why is it popular?\n",
        "- Python is a programming language that is easy to understand and write, making it a popular choice among developers and programmers.\n",
        "It is compatible with various programming techniques such as procedural, object-oriented, and functional programming.\n"
      ],
      "metadata": {
        "id": "KZ3qTjDaaoTK"
      }
    },
    {
      "cell_type": "markdown",
      "source": [
        "What is an interpreter in Python?\n",
        "- It is computer program that takes the python code and convert it into machine code. its basically convert the high level language into machine code.\n"
      ],
      "metadata": {
        "id": "9Lc4xhUia5pL"
      }
    },
    {
      "cell_type": "markdown",
      "source": [],
      "metadata": {
        "id": "RteWUvp6bZks"
      }
    },
    {
      "cell_type": "markdown",
      "source": [
        "What are pre-defined keywords in Python?\n",
        "- Keywords are reserved words in Python that have special meanings and cannot be used as identifiers.\n",
        "Examples of keywords include if, else, def, class, import, try, except, return, True, False, None, while, for, etc."
      ],
      "metadata": {
        "id": "b_gcmHYQbfCr"
      }
    },
    {
      "cell_type": "markdown",
      "source": [
        "Can keywords be used as variable names?\n",
        "- No, keywords cannot be used as variable names in most programming languages. Keywords are reserved words that have special meanings and purposes in the language's syntax and are used to define the structure or control flow of the code.\n"
      ],
      "metadata": {
        "id": "nF28WC04cDiZ"
      }
    },
    {
      "cell_type": "markdown",
      "source": [
        " What is mutability in Python?\n",
        " -  mutability refers to whether an objects state (or value) can be changed after it has been created. it doesn't lead to the formation of new object."
      ],
      "metadata": {
        "id": "nmyxM0xecpCL"
      }
    },
    {
      "cell_type": "markdown",
      "source": [
        "Why are lists mutable, but tuples are immutable?\n",
        "- lists are mutable because they support the operations like adding , subtraction, insertion and deletion and doesn't lead to the formation of new object while tuple doesn't support these and lead to the formation of new objects."
      ],
      "metadata": {
        "id": "wqyvIbHYc8mi"
      }
    },
    {
      "cell_type": "markdown",
      "source": [
        "What is the difference between “==” and “is” operators in Python?\n",
        "- (==) equality operator . it compares the value of two object and check Whether the contents of the two objects are equal. and is operator commapres the identity of two objects and check Whether the two objects refer to the same memory location.\n"
      ],
      "metadata": {
        "id": "EJxbamf4ds4q"
      }
    },
    {
      "cell_type": "markdown",
      "source": [
        "What are logical operators in Python?\n",
        "- Logical operators in Python are used to combine conditional statements and evaluate logical expressions. They return a Boolean value (True or False) based on the evaluation of the expressions."
      ],
      "metadata": {
        "id": "ze8ZrnNZeVeX"
      }
    },
    {
      "cell_type": "markdown",
      "source": [
        "What is type casting in Python?\n",
        "- Type casting, also referred to as type conversion, is the process of changing one data type to another in Python."
      ],
      "metadata": {
        "id": "iRS6qrjxejSd"
      }
    },
    {
      "cell_type": "markdown",
      "source": [
        "What is the difference between implicit and explicit type casting?\n",
        "- Implicit type casting happens automatically when Python internally converts a smaller data type into a larger data type. This type of casting is done by Python automatically when it makes sense and Explicit type casting happens when the programmer manually converts a variable from one type to another using type functions like int(), float(), str(), etc.\n",
        "\n"
      ],
      "metadata": {
        "id": "jyHGTWaPerzz"
      }
    },
    {
      "cell_type": "markdown",
      "source": [
        "What is the purpose of conditional statements in Python?\n",
        "- used to make decisions in your code based on certain conditions. They allow you to execute different blocks of code depending on whether a condition is True or False."
      ],
      "metadata": {
        "id": "aX4ijIivfmoJ"
      }
    },
    {
      "cell_type": "markdown",
      "source": [
        "How does the elif statement work?\n",
        "- The elif  statement in Python is used to check multiple conditions in a sequence. It allows you to test for multiple conditions after an initial if statement. If the if condition is True, Python will check each elif condition in the order they are written. If none of the elif conditions are True, the code in the else block (if provided) will execute."
      ],
      "metadata": {
        "id": "uoG2-kLFfz6J"
      }
    },
    {
      "cell_type": "markdown",
      "source": [
        "What is the difference between for and while loops?\n",
        "- The for loop is used when you know the number of iterations in advance or when iterating over a sequence.  The while loop is used when you want the loop to continue as long as a condition is True. It does not depend on the number of iterations in advance."
      ],
      "metadata": {
        "id": "KgtirHUsgJZ8"
      }
    },
    {
      "cell_type": "markdown",
      "source": [
        "Describe a scenario where a while loop is more suitable than a for loop?\n",
        "- A while loop is more suitable than a for loop in scenarios where the number of iterations is not known in advance, and the loop needs to continue until a specific condition is met."
      ],
      "metadata": {
        "id": "1-2eKgI9glTo"
      }
    },
    {
      "cell_type": "code",
      "source": [
        "# Write a Python program to print \"Hello, World!\n",
        "print(\"Hello, World!\");"
      ],
      "metadata": {
        "colab": {
          "base_uri": "https://localhost:8080/"
        },
        "id": "-Wedhc4Pg2uG",
        "outputId": "36d089de-0e14-4304-a65d-dc204bf4820d"
      },
      "execution_count": 1,
      "outputs": [
        {
          "output_type": "stream",
          "name": "stdout",
          "text": [
            "Hello, World!\n"
          ]
        }
      ]
    },
    {
      "cell_type": "code",
      "source": [
        "#Write a Python program that displays your name and age.\n",
        "print(\"My name is Akshita Sharma\")\n",
        "print(\"i am 21 years old!\");"
      ],
      "metadata": {
        "colab": {
          "base_uri": "https://localhost:8080/"
        },
        "id": "6w-QDMSqhccS",
        "outputId": "6686316a-3ded-40ef-a4c2-f8034f5c5e0d"
      },
      "execution_count": 2,
      "outputs": [
        {
          "output_type": "stream",
          "name": "stdout",
          "text": [
            "My name is Akshita Sharma\n",
            "i am 21 years old!\n"
          ]
        }
      ]
    },
    {
      "cell_type": "code",
      "source": [
        "#Write code to print all the pre-defined keywords in Python using the keyword library.\n",
        "help('keywords')"
      ],
      "metadata": {
        "colab": {
          "base_uri": "https://localhost:8080/"
        },
        "id": "F3ucCq1fiGLg",
        "outputId": "9ffeace9-e9cd-46a9-f544-fcaa4a29dc30"
      },
      "execution_count": 6,
      "outputs": [
        {
          "output_type": "stream",
          "name": "stdout",
          "text": [
            "\n",
            "Here is a list of the Python keywords.  Enter any keyword to get more help.\n",
            "\n",
            "False               class               from                or\n",
            "None                continue            global              pass\n",
            "True                def                 if                  raise\n",
            "and                 del                 import              return\n",
            "as                  elif                in                  try\n",
            "assert              else                is                  while\n",
            "async               except              lambda              with\n",
            "await               finally             nonlocal            yield\n",
            "break               for                 not                 \n",
            "\n"
          ]
        }
      ]
    },
    {
      "cell_type": "code",
      "source": [
        "#Write a program that checks if a given word is a Python keyword.\n",
        "import keyword\n",
        "word = input(\"Enter a word: \")\n",
        "if keyword.iskeyword(word):\n",
        "    print(f\"'{word}' is a Python keyword.\")\n",
        "else:\n",
        "    print(f\"'{word}' is not a Python keyword.\")\n"
      ],
      "metadata": {
        "colab": {
          "base_uri": "https://localhost:8080/"
        },
        "id": "jUmI-6n-idJL",
        "outputId": "9c89ba56-2e01-4d3a-ee03-0f55f3defd6e"
      },
      "execution_count": 8,
      "outputs": [
        {
          "output_type": "stream",
          "name": "stdout",
          "text": [
            "Enter a word: hello\n",
            "'hello' is not a Python keyword.\n"
          ]
        }
      ]
    },
    {
      "cell_type": "markdown",
      "source": [],
      "metadata": {
        "id": "is5_Hlh1alJs"
      }
    },
    {
      "cell_type": "code",
      "source": [
        "#Create a list and tuple in Python, and demonstrate how attempting to change an element works differently\n",
        "# Creating a list\n",
        "my_list = [1, 2, 3, 4]\n",
        "print(\"Original List:\", my_list)\n",
        "\n",
        "# Attempting to change an element in the list\n",
        "my_list[1] = 10\n",
        "print(\"List after modification:\", my_list)\n",
        "\n",
        "\n",
        "# Creating a tuple\n",
        "my_tuple = (1, 2, 3, 4)\n",
        "print(\"\\nOriginal Tuple:\", my_tuple)\n",
        "my_tuple[1] = 10\n",
        "print(\"tuple after modification:\", my_tuple)\n"
      ],
      "metadata": {
        "colab": {
          "base_uri": "https://localhost:8080/",
          "height": 263
        },
        "id": "LUGa5tBkicXP",
        "outputId": "47dfc592-c29f-4659-acd8-10d97e1482d2"
      },
      "execution_count": 9,
      "outputs": [
        {
          "output_type": "stream",
          "name": "stdout",
          "text": [
            "Original List: [1, 2, 3, 4]\n",
            "List after modification: [1, 10, 3, 4]\n",
            "\n",
            "Original Tuple: (1, 2, 3, 4)\n"
          ]
        },
        {
          "output_type": "error",
          "ename": "TypeError",
          "evalue": "'tuple' object does not support item assignment",
          "traceback": [
            "\u001b[0;31m---------------------------------------------------------------------------\u001b[0m",
            "\u001b[0;31mTypeError\u001b[0m                                 Traceback (most recent call last)",
            "\u001b[0;32m<ipython-input-9-0cc4459f2f92>\u001b[0m in \u001b[0;36m<cell line: 14>\u001b[0;34m()\u001b[0m\n\u001b[1;32m     12\u001b[0m \u001b[0mmy_tuple\u001b[0m \u001b[0;34m=\u001b[0m \u001b[0;34m(\u001b[0m\u001b[0;36m1\u001b[0m\u001b[0;34m,\u001b[0m \u001b[0;36m2\u001b[0m\u001b[0;34m,\u001b[0m \u001b[0;36m3\u001b[0m\u001b[0;34m,\u001b[0m \u001b[0;36m4\u001b[0m\u001b[0;34m)\u001b[0m\u001b[0;34m\u001b[0m\u001b[0;34m\u001b[0m\u001b[0m\n\u001b[1;32m     13\u001b[0m \u001b[0mprint\u001b[0m\u001b[0;34m(\u001b[0m\u001b[0;34m\"\\nOriginal Tuple:\"\u001b[0m\u001b[0;34m,\u001b[0m \u001b[0mmy_tuple\u001b[0m\u001b[0;34m)\u001b[0m\u001b[0;34m\u001b[0m\u001b[0;34m\u001b[0m\u001b[0m\n\u001b[0;32m---> 14\u001b[0;31m \u001b[0mmy_tuple\u001b[0m\u001b[0;34m[\u001b[0m\u001b[0;36m1\u001b[0m\u001b[0;34m]\u001b[0m \u001b[0;34m=\u001b[0m \u001b[0;36m10\u001b[0m\u001b[0;34m\u001b[0m\u001b[0;34m\u001b[0m\u001b[0m\n\u001b[0m\u001b[1;32m     15\u001b[0m \u001b[0mprint\u001b[0m\u001b[0;34m(\u001b[0m\u001b[0;34m\"tuple after modification:\"\u001b[0m\u001b[0;34m,\u001b[0m \u001b[0mmy_tuple\u001b[0m\u001b[0;34m)\u001b[0m\u001b[0;34m\u001b[0m\u001b[0;34m\u001b[0m\u001b[0m\n",
            "\u001b[0;31mTypeError\u001b[0m: 'tuple' object does not support item assignment"
          ]
        }
      ]
    },
    {
      "cell_type": "code",
      "source": [
        "#Write a function to demonstrate the behavior of mutable and immutable arguments.\n",
        "\n",
        "def demonstrate(arg1, arg2):\n",
        "    print(\"Original arg1 (immutable):\", arg1)\n",
        "    print(\"Original arg2 (mutable):\", arg2)\n",
        "    arg1 += 5\n",
        "    print(\"Modified arg1 (immutable):\", arg1)\n",
        "    arg2.append(10)\n",
        "    print(\"Modified arg2 (mutable):\", arg2)\n",
        "immutable = 5  # Integer (immutable)\n",
        "mutable = [1, 2, 3]  # List (mutable)\n",
        "\n",
        "demonstrate(immutable, mutable)\n",
        "print(\"\\nOutside function:\")\n",
        "print(\"Immutable after function:\", immutable)\n",
        "print(\"Mutable after function:\", mutable)\n"
      ],
      "metadata": {
        "colab": {
          "base_uri": "https://localhost:8080/"
        },
        "id": "GPG0lfhNsdsw",
        "outputId": "d8ee0fdd-d6c4-4454-ed7c-e9b7f7ba9ebb"
      },
      "execution_count": 10,
      "outputs": [
        {
          "output_type": "stream",
          "name": "stdout",
          "text": [
            "Original arg1 (immutable): 5\n",
            "Original arg2 (mutable): [1, 2, 3]\n",
            "Modified arg1 (immutable): 10\n",
            "Modified arg2 (mutable): [1, 2, 3, 10]\n",
            "\n",
            "Outside function:\n",
            "Immutable after function: 5\n",
            "Mutable after function: [1, 2, 3, 10]\n"
          ]
        }
      ]
    },
    {
      "cell_type": "code",
      "source": [
        "# Write a function to demonstrate the behavior of mutable and immutable arguments\n",
        "\n",
        "def demonstrate(arg1, arg2):\n",
        "    print(\"Original arg1 (immutable):\", arg1)\n",
        "    print(\"Original arg2 (mutable):\", arg2)\n",
        "    arg1 += 5\n",
        "    print(\"Modified arg1 (immutable):\", arg1)\n",
        "    arg2.append(10)\n",
        "    print(\"Modified arg2 (mutable):\", arg2)\n",
        "immutable = 5  # Integer (immutable)\n",
        "mutable = [1, 2, 3]  # List (mutable)\n",
        "\n",
        "demonstrate(immutable, mutable)\n",
        "print(\"\\nOutside function:\")\n",
        "print(\"Immutable after function:\", immutable)\n",
        "print(\"Mutable after function:\", mutable)"
      ],
      "metadata": {
        "id": "fuHVfNTHtThQ"
      },
      "execution_count": null,
      "outputs": []
    },
    {
      "cell_type": "code",
      "source": [
        "#Write a program to demonstrate the use of logical operators\n",
        "a=5\n",
        "b=6\n",
        "print(a<6 and b >2)"
      ],
      "metadata": {
        "colab": {
          "base_uri": "https://localhost:8080/"
        },
        "id": "YBxC1aV_tdV_",
        "outputId": "cc9a77d4-fa67-4996-a245-21fa20bd251b"
      },
      "execution_count": 12,
      "outputs": [
        {
          "output_type": "stream",
          "name": "stdout",
          "text": [
            "True\n"
          ]
        }
      ]
    },
    {
      "cell_type": "code",
      "source": [
        "# Write a Python program to convert user input from string to integer, float, and boolean types\n",
        "age = input(\"enter your age\");\n",
        "print(int(age))\n",
        "print(float(age))\n",
        "print(bool(age))"
      ],
      "metadata": {
        "colab": {
          "base_uri": "https://localhost:8080/"
        },
        "id": "YDUo8rsRtw9s",
        "outputId": "ac378ad7-bcc5-4267-8642-44f17ca8b3a8"
      },
      "execution_count": 13,
      "outputs": [
        {
          "output_type": "stream",
          "name": "stdout",
          "text": [
            "enter your age12\n",
            "12\n",
            "12.0\n",
            "True\n"
          ]
        }
      ]
    },
    {
      "cell_type": "code",
      "source": [
        "# Write code to demonstrate type casting with list elements\n",
        "string_list = [\"1\", \"2\", \"3\", \"4.5\"]\n",
        "int_list = [int(x) for x in string_list if '.' not in x]\n",
        "print(\"List with integers:\", int_list)\n",
        "float_list = [float(x) for x in string_list]\n",
        "print(\"List with floats:\", float_list)\n",
        "int_from_float_list = [int(float(x)) for x in string_list]\n",
        "print(\"List with integers from float:\", int_from_float_list)\n"
      ],
      "metadata": {
        "colab": {
          "base_uri": "https://localhost:8080/"
        },
        "id": "9yj4hjVSuPKQ",
        "outputId": "2461aad7-3582-48c3-a49d-8ee027743d28"
      },
      "execution_count": 14,
      "outputs": [
        {
          "output_type": "stream",
          "name": "stdout",
          "text": [
            "List with integers: [1, 2, 3]\n",
            "List with floats: [1.0, 2.0, 3.0, 4.5]\n",
            "List with integers from float: [1, 2, 3, 4]\n"
          ]
        }
      ]
    },
    {
      "cell_type": "code",
      "source": [
        "# Write a program that checks if a number is positive, negative, or zero\n",
        "num = input(\"enter the number\")\n",
        "if( int (num) >0):\n",
        "  print(\"positive number\")\n",
        "elif(int (num)<0):\n",
        "  print(\"negative number\")\n",
        "else:\n",
        "  print (\"zero number\")"
      ],
      "metadata": {
        "colab": {
          "base_uri": "https://localhost:8080/"
        },
        "id": "3rKGDsBzusS4",
        "outputId": "4fea5873-fda0-4942-9d3e-a845d0b75c28"
      },
      "execution_count": 21,
      "outputs": [
        {
          "output_type": "stream",
          "name": "stdout",
          "text": [
            "enter the number-4\n",
            "negative number\n"
          ]
        }
      ]
    },
    {
      "cell_type": "code",
      "source": [
        "# Write a for loop to print numbers from 1 to 100\n",
        "for i in range(1,101):\n",
        " print(i , end=\" \")"
      ],
      "metadata": {
        "colab": {
          "base_uri": "https://localhost:8080/"
        },
        "id": "Pr4MS42qvmZq",
        "outputId": "77e7a920-0558-4ec2-e0a8-b8474195cc5f"
      },
      "execution_count": 23,
      "outputs": [
        {
          "output_type": "stream",
          "name": "stdout",
          "text": [
            "1 2 3 4 5 6 7 8 9 10 11 12 13 14 15 16 17 18 19 20 21 22 23 24 25 26 27 28 29 30 31 32 33 34 35 36 37 38 39 40 41 42 43 44 45 46 47 48 49 50 51 52 53 54 55 56 57 58 59 60 61 62 63 64 65 66 67 68 69 70 71 72 73 74 75 76 77 78 79 80 81 82 83 84 85 86 87 88 89 90 91 92 93 94 95 96 97 98 99 100 "
          ]
        }
      ]
    },
    {
      "cell_type": "code",
      "source": [
        "#Write a Python program to find the sum of all even numbers between 1 and 500\n",
        "sum_of_evens = 0\n",
        "for number in range(1, 501):\n",
        "    if number % 2 == 0:\n",
        "        sum_of_evens += number\n",
        "print(\"The sum of all even numbers between 1 and 500 is:\", sum_of_evens)\n"
      ],
      "metadata": {
        "colab": {
          "base_uri": "https://localhost:8080/"
        },
        "id": "8txliHd8v6TH",
        "outputId": "9f5921de-53cd-47f6-ba9f-7b77369294a9"
      },
      "execution_count": 24,
      "outputs": [
        {
          "output_type": "stream",
          "name": "stdout",
          "text": [
            "The sum of all even numbers between 1 and 500 is: 62750\n"
          ]
        }
      ]
    },
    {
      "cell_type": "code",
      "source": [
        "# Write a program to reverse a string using a while loop\n",
        "input_string = input(\"Enter a string to reverse: \")\n",
        "reversed_string = \"\"\n",
        "index = len(input_string) - 1\n",
        "while index >= 0:\n",
        "    reversed_string += input_string[index]\n",
        "    index -= 1\n",
        "print(\"Reversed string:\", reversed_string)\n",
        "\n"
      ],
      "metadata": {
        "colab": {
          "base_uri": "https://localhost:8080/"
        },
        "id": "JTEg4CW9wQpE",
        "outputId": "843969be-c9fc-4c4c-b366-06186b4d556e"
      },
      "execution_count": 26,
      "outputs": [
        {
          "output_type": "stream",
          "name": "stdout",
          "text": [
            "Enter a string to reverse: akshi\n",
            "Reversed string: ihska\n"
          ]
        }
      ]
    },
    {
      "cell_type": "code",
      "source": [
        "# Write a Python program to calculate the factorial of a number provided by the user using a while loop\n",
        "number = int(input(\"Enter a number to find its factorial: \"))\n",
        "factorial = 1\n",
        "i = 1\n",
        "while i <= number:\n",
        "    factorial *= i\n",
        "    i += 1\n",
        "print(f\"The factorial of {number} is {factorial}\")\n"
      ],
      "metadata": {
        "colab": {
          "base_uri": "https://localhost:8080/"
        },
        "id": "-smiROTOw4P_",
        "outputId": "2d98e9b4-9292-4960-c68e-44ad508b96c5"
      },
      "execution_count": 27,
      "outputs": [
        {
          "output_type": "stream",
          "name": "stdout",
          "text": [
            "Enter a number to find its factorial: 3\n",
            "The factorial of 3 is 6\n"
          ]
        }
      ]
    }
  ]
}